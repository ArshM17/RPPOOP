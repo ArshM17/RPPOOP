{
 "cells": [
  {
   "cell_type": "code",
   "execution_count": 1,
   "id": "d3bd4697",
   "metadata": {},
   "outputs": [],
   "source": [
    "class Remote():\n",
    "    def __init__(self, color, material):\n",
    "        self.__color = color\n",
    "        self.__material = material\n",
    "    def getColor(self):\n",
    "        return self.__color\n",
    "    def setColor(self, color):\n",
    "        self.__color = color\n",
    "    def getMaterial(self):\n",
    "        return self.__material\n",
    "    def setMaterial(self, material):\n",
    "        self.__material = material\n",
    "    def switchOn(self):\n",
    "        pass\n",
    "    def switchOff(self):\n",
    "        pass"
   ]
  },
  {
   "cell_type": "code",
   "execution_count": 2,
   "id": "da9dbb78",
   "metadata": {},
   "outputs": [],
   "source": [
    "class TVRemote(Remote):\n",
    "    def __init__(self, color, material):\n",
    "        super().__init__(color, material)\n",
    "    def switchOn(self):\n",
    "        print(\"TV switched ON.\")"
   ]
  },
  {
   "cell_type": "code",
   "execution_count": 3,
   "id": "6e2d1b55",
   "metadata": {},
   "outputs": [],
   "source": [
    "class ACRemote(Remote):\n",
    "    def __init__(self, color, material):\n",
    "        super().__init__(color, material)\n",
    "    def switchOn(self):\n",
    "        print(\"AC switched ON.\")"
   ]
  },
  {
   "cell_type": "code",
   "execution_count": 4,
   "id": "d4a72497",
   "metadata": {},
   "outputs": [],
   "source": [
    "class Cat():\n",
    "    def __init__(self):\n",
    "        self.__eyes = 2\n",
    "        self.__paws = 4\n",
    "    def play(self, animal1, animal2):\n",
    "        print(\"Playing with \", animal1, \" and \", animal2)\n",
    "    def play(self, animal):\n",
    "        print(\"Playing with \", animal)"
   ]
  },
  {
   "cell_type": "code",
   "execution_count": 5,
   "id": "4bb81447",
   "metadata": {},
   "outputs": [],
   "source": [
    "def runtimePoly():\n",
    "    tv = TVRemote(\"Black\", \"Metal\")\n",
    "    ac = ACRemote(\"White\", \"Plastic\")\n",
    "    print(\"To demonstrate Runtime Polymorphism, I have created two classes. - TV and AC. Both of these classes have switchOn function. By Runtime Polymorphism, we can use the same function name to invoke different functions in different classes.\")\n",
    "    print(\"----Created a class of TV remote and AC remote----\")\n",
    "    print(\"----Switching on the TV----\")\n",
    "    print(\"----Calling the switchOn function of television.\")\n",
    "    tv.switchOn()\n",
    "    print(\"----Switching on the AC----\")\n",
    "    print(\"----Calling the switchon function of Air conditioner----\")\n",
    "    ac.switchOn()\n",
    "    print(\"You can see that the same function in two different class performs two different tasks\")"
   ]
  },
  {
   "cell_type": "code",
   "execution_count": 6,
   "id": "a61c8a06",
   "metadata": {},
   "outputs": [],
   "source": [
    "def compiletimePoly():\n",
    "    c = Cat()\n",
    "    print(\"There are two functions with same name - \\\"play\\\" in Cat class. The first function takes two arguments while the second takes only one argument. Due to compiletime polymorphism, The second function will be overloaded over the first function.\")\n",
    "    print(\"Calling play method with two arguments.\")\n",
    "    try:\n",
    "        c.play('dog', 'mouse')\n",
    "    except:\n",
    "        print(\"!!!Error Catched!!!\")\n",
    "    print(\"Calling play method with one argument.\")\n",
    "    c.play('dog')\n",
    "    "
   ]
  },
  {
   "cell_type": "code",
   "execution_count": null,
   "id": "63471633",
   "metadata": {},
   "outputs": [
    {
     "name": "stdout",
     "output_type": "stream",
     "text": [
      "----Menu----\n",
      "1)Runtime Polymorphism\n",
      "2)Compiletime Polymorphism\n",
      "3)Exit\n",
      "Enter your option:1\n",
      "To demonstrate Runtime Polymorphism, I have created two classes. - TV and AC. Both of these classes have switchOn function. By Runtime Polymorphism, we can use the same function name to invoke different functions in different classes.\n",
      "----Created a class of TV remote and AC remote----\n",
      "----Switching on the TV----\n",
      "----Calling the switchOn function of television.\n",
      "TV switched ON.\n",
      "----Switching on the AC----\n",
      "----Calling the switchon function of Air conditioner----\n",
      "AC switched ON.\n",
      "You can see that the same function in two different class performs two different tasks\n",
      "----Menu----\n",
      "1)Runtime Polymorphism\n",
      "2)Compiletime Polymorphism\n",
      "3)Exit\n",
      "Enter your option:2\n",
      "There are two functions with same name - \"play\" in Cat class. The first function takes two arguments while the second takes only one argument. Due to compiletime polymorphism, The second function will be overloaded over the first function.\n",
      "Calling play method with two arguments.\n",
      "!!!Error Catched!!!\n",
      "Calling play method with one argument.\n",
      "Playing with  dog\n",
      "----Menu----\n",
      "1)Runtime Polymorphism\n",
      "2)Compiletime Polymorphism\n",
      "3)Exit\n"
     ]
    }
   ],
   "source": [
    "option = 0\n",
    "while(option != 3):\n",
    "    print(\"----Menu----\")\n",
    "    print(\"1)Runtime Polymorphism\")\n",
    "    print(\"2)Compiletime Polymorphism\")\n",
    "    print(\"3)Exit\")\n",
    "    option = int(input(\"Enter your option:\"))\n",
    "    if(option == 1):\n",
    "        runtimePoly()\n",
    "    elif option == 2:\n",
    "        compiletimePoly()"
   ]
  },
  {
   "cell_type": "code",
   "execution_count": null,
   "id": "553350f6",
   "metadata": {},
   "outputs": [],
   "source": []
  }
 ],
 "metadata": {
  "kernelspec": {
   "display_name": "Python 3 (ipykernel)",
   "language": "python",
   "name": "python3"
  },
  "language_info": {
   "codemirror_mode": {
    "name": "ipython",
    "version": 3
   },
   "file_extension": ".py",
   "mimetype": "text/x-python",
   "name": "python",
   "nbconvert_exporter": "python",
   "pygments_lexer": "ipython3",
   "version": "3.9.13"
  }
 },
 "nbformat": 4,
 "nbformat_minor": 5
}
