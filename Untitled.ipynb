{
 "cells": [
  {
   "cell_type": "code",
   "execution_count": 1,
   "id": "2c90baf7",
   "metadata": {},
   "outputs": [],
   "source": [
    "import tkinter as tk"
   ]
  },
  {
   "cell_type": "code",
   "execution_count": 2,
   "id": "f286a3f0",
   "metadata": {},
   "outputs": [
    {
     "data": {
      "text/plain": [
       "''"
      ]
     },
     "execution_count": 2,
     "metadata": {},
     "output_type": "execute_result"
    }
   ],
   "source": [
    "root = tk.Tk()\n",
    "root.geometry(\"400x300\")"
   ]
  },
  {
   "cell_type": "code",
   "execution_count": 3,
   "id": "e4af2047",
   "metadata": {},
   "outputs": [],
   "source": [
    "label1 = tk.Label(root, text=\"Label 1\", width=\"100\", bg=\"green\")\n",
    "label1.pack()"
   ]
  },
  {
   "cell_type": "code",
   "execution_count": 4,
   "id": "8fb15e4f",
   "metadata": {},
   "outputs": [],
   "source": [
    "label2 = tk.Label(root, text=\"Label 2\", width=\"100\", bg=\"red\")\n",
    "label2.pack()"
   ]
  },
  {
   "cell_type": "code",
   "execution_count": 5,
   "id": "5ac5b51d",
   "metadata": {},
   "outputs": [],
   "source": [
    "root.mainloop()"
   ]
  },
  {
   "cell_type": "code",
   "execution_count": null,
   "id": "05a9cba5",
   "metadata": {},
   "outputs": [],
   "source": []
  }
 ],
 "metadata": {
  "kernelspec": {
   "display_name": "Python 3 (ipykernel)",
   "language": "python",
   "name": "python3"
  },
  "language_info": {
   "codemirror_mode": {
    "name": "ipython",
    "version": 3
   },
   "file_extension": ".py",
   "mimetype": "text/x-python",
   "name": "python",
   "nbconvert_exporter": "python",
   "pygments_lexer": "ipython3",
   "version": "3.10.6"
  }
 },
 "nbformat": 4,
 "nbformat_minor": 5
}
