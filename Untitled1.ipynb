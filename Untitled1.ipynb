{
 "cells": [
  {
   "cell_type": "code",
   "execution_count": 1,
   "id": "aba1582e",
   "metadata": {},
   "outputs": [],
   "source": [
    "import tkinter as tk"
   ]
  },
  {
   "cell_type": "code",
   "execution_count": 2,
   "id": "a91ae636",
   "metadata": {},
   "outputs": [],
   "source": [
    "root = tk.Tk()"
   ]
  },
  {
   "cell_type": "code",
   "execution_count": 3,
   "id": "c628e9bc",
   "metadata": {},
   "outputs": [],
   "source": [
    "# Create a menu bar\n",
    "menu_bar = tk.Menu(root)\n",
    "root.config(menu=menu_bar)"
   ]
  },
  {
   "cell_type": "code",
   "execution_count": 4,
   "id": "b6056bc5",
   "metadata": {},
   "outputs": [],
   "source": [
    "# Create a file menu\n",
    "file_menu = tk.Menu(menu_bar)\n",
    "menu_bar.add_cascade(label=\"File\", menu=file_menu)\n",
    "edit_menu = tk.Menu(menu_bar)\n",
    "menu_bar.add_cascade(label=\"Edit\", menu=edit_menu)\n",
    "view_menu = tk.Menu(menu_bar)\n",
    "menu_bar.add_cascade(label=\"View\", menu=view_menu)\n",
    "insert_menu = tk.Menu(menu_bar)\n",
    "menu_bar.add_cascade(label=\"Insert\", menu=insert_menu)"
   ]
  },
  {
   "cell_type": "code",
   "execution_count": 5,
   "id": "70157be5",
   "metadata": {},
   "outputs": [],
   "source": [
    "# Add a menu item to the file menu\n",
    "file_menu.add_command(label=\"Open\")\n",
    "file_menu.add_command(label=\"New\")\n",
    "file_menu.add_command(label=\"Save\")\n",
    "file_menu.add_command(label=\"Save as\")"
   ]
  },
  {
   "cell_type": "code",
   "execution_count": 6,
   "id": "645868f6",
   "metadata": {},
   "outputs": [],
   "source": [
    "root.mainloop()"
   ]
  }
 ],
 "metadata": {
  "kernelspec": {
   "display_name": "Python 3 (ipykernel)",
   "language": "python",
   "name": "python3"
  },
  "language_info": {
   "codemirror_mode": {
    "name": "ipython",
    "version": 3
   },
   "file_extension": ".py",
   "mimetype": "text/x-python",
   "name": "python",
   "nbconvert_exporter": "python",
   "pygments_lexer": "ipython3",
   "version": "3.10.6"
  }
 },
 "nbformat": 4,
 "nbformat_minor": 5
}
