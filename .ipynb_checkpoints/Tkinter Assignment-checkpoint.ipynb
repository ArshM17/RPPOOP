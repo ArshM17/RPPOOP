{
 "cells": [
  {
   "cell_type": "code",
   "execution_count": 1,
   "id": "c70a1ecb",
   "metadata": {},
   "outputs": [],
   "source": [
    "from tkinter import *"
   ]
  },
  {
   "cell_type": "code",
   "execution_count": 2,
   "id": "01b56dc8",
   "metadata": {},
   "outputs": [
    {
     "data": {
      "text/plain": [
       "''"
      ]
     },
     "execution_count": 2,
     "metadata": {},
     "output_type": "execute_result"
    }
   ],
   "source": [
    "root = Tk()\n",
    "root.title('Assignement 5')\n",
    "root.geometry(\"800x800\")"
   ]
  },
  {
   "cell_type": "code",
   "execution_count": 3,
   "id": "ab9d2235",
   "metadata": {},
   "outputs": [],
   "source": [
    "w1 = Label(root, text=\"Operand 1\", bg='yellow', font='Times 20', padx=2, pady=2)\n",
    "w2 = Label(root, text=\"Operand 2\", bg='orange', font='Times 20', padx=2, pady=2)\n",
    "w3 = Label(root, text='Result is 0', font='Times 20', padx=2, pady=2)\n",
    "e1 = Entry(root, font='Times 20')\n",
    "e2 = Entry(root, font='Times 20')\n",
    "def addition():\n",
    "    a = e1.get()\n",
    "    b = e2.get()\n",
    "    w3.config(text='Result !!')\n",
    "    if (len(a) == 0) or (len(b) == 0):\n",
    "        w3.config(text='Result is 0')\n",
    "    else: \n",
    "        res = int(a) + int(b)\n",
    "        w3.config(text=str('Result is ' + str(res)))\n",
    "def subtract():\n",
    "    a = e1.get()\n",
    "    b = e2.get()\n",
    "    if len(a) == 0 or (len(b) == 0):\n",
    "        w3.config(text='Result is 0')\n",
    "    else: \n",
    "        res = int(a) - int(b)\n",
    "        w3.config(text=str('Result is ' + str(res)))\n",
    "def multiply():\n",
    "    a = e1.get()\n",
    "    b = e2.get()\n",
    "    if len(a) == 0 or (len(b) == 0):\n",
    "        w3.config(text='Result is 0')\n",
    "    else: \n",
    "        res = int(a) * int(b)\n",
    "        w3.config(text=str('Result is ' + str(res)))\n",
    "def division():\n",
    "    a = e1.get()\n",
    "    b = e2.get()\n",
    "    if len(a) == 0 or (len(b) == 0):\n",
    "        w3.config(text='Result is 0')\n",
    "    else: \n",
    "        res = int(a) / int(b)\n",
    "        w3.config(text=str('Result is ' + str(res)))\n",
    "def reset_defaults():\n",
    "    w1.config(bg='yellow')\n",
    "    w2.config(bg='orange')\n",
    "    e1.delete(0, \"end\")\n",
    "    e2.delete(0, \"end\")\n",
    "    w3.config(text=\"Result is 0\")\n",
    "\n",
    "b_add = Button(root, text='Add', font='Times 20', command=addition)\n",
    "b_sub = Button(root, text='Subtract', font='Times 20', command=subtract)\n",
    "b_mul = Button(root, text='Multiply', font='Times 20', command=multiply)\n",
    "b_div = Button(root, text='Divide', font='Times 20', command=division)"
   ]
  },
  {
   "cell_type": "code",
   "execution_count": 4,
   "id": "8cd027b5",
   "metadata": {},
   "outputs": [],
   "source": [
    "w1.place(x=20, y=5)\n",
    "w2.place(x=20, y=50)\n",
    "w3.place(x=300, y=200)\n",
    "e1.place(x=300, y=5)\n",
    "e2.place(x=300, y=50)\n",
    "b_add.place(x=80, y=100)\n",
    "b_sub.place(x=210, y=100)\n",
    "b_mul.place(x=410, y=100)\n",
    "b_div.place(x=610, y=100)\n",
    "\n"
   ]
  },
  {
   "cell_type": "code",
   "execution_count": 5,
   "id": "690e0573",
   "metadata": {},
   "outputs": [],
   "source": [
    "def exit_command():\n",
    "    root.destroy()\n",
    "\n",
    "def change_color_to_blue():\n",
    "    w1.config(bg='#0070FF')\n",
    "def change_color_to_red():\n",
    "    w2.config(bg='#FF0030')\n",
    "\n",
    "my_menu = Menu(root)\n",
    "root.config(menu=my_menu)\n",
    "my_menu.add_command(label='Change w1 color', command=change_color_to_blue)\n",
    "my_menu.add_command(label='Change w2 color', command=change_color_to_red)\n",
    "my_menu.add_command(label='Reset to Default', command=reset_defaults)\n",
    "my_menu.add_command(label='Exit', command=exit_command)"
   ]
  },
  {
   "cell_type": "code",
   "execution_count": 6,
   "id": "b29a7455",
   "metadata": {},
   "outputs": [],
   "source": [
    "root.mainloop()"
   ]
  },
  {
   "cell_type": "code",
   "execution_count": null,
   "id": "e299a562",
   "metadata": {},
   "outputs": [],
   "source": []
  }
 ],
 "metadata": {
  "kernelspec": {
   "display_name": "Python 3 (ipykernel)",
   "language": "python",
   "name": "python3"
  },
  "language_info": {
   "codemirror_mode": {
    "name": "ipython",
    "version": 3
   },
   "file_extension": ".py",
   "mimetype": "text/x-python",
   "name": "python",
   "nbconvert_exporter": "python",
   "pygments_lexer": "ipython3",
   "version": "3.10.6"
  }
 },
 "nbformat": 4,
 "nbformat_minor": 5
}
